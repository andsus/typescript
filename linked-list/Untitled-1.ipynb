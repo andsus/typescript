{
 "cells": [
  {
   "cell_type": "code",
   "execution_count": null,
   "metadata": {},
   "outputs": [
    {
     "name": "stderr",
     "output_type": "stream",
     "text": [
      "unexpected error: Error: Unexpected pending rebuildTimer\n",
      "    at sys.setTimeout (/home/andre/.nvm/versions/node/v18.12.1/lib/node_modules/tslab/dist/converter.js:111:19)\n",
      "    at scheduleProgramUpdate (/home/andre/.nvm/versions/node/v18.12.1/lib/node_modules/tslab/node_modules/@tslab/typescript-for-tslab/lib/typescript.js:122735:35)\n",
      "    at onSourceFileChange (/home/andre/.nvm/versions/node/v18.12.1/lib/node_modules/tslab/node_modules/@tslab/typescript-for-tslab/lib/typescript.js:122876:7)\n",
      "    at /home/andre/.nvm/versions/node/v18.12.1/lib/node_modules/tslab/node_modules/@tslab/typescript-for-tslab/lib/typescript.js:122868:56\n",
      "    at updateContent (/home/andre/.nvm/versions/node/v18.12.1/lib/node_modules/tslab/dist/converter.js:601:9)\n",
      "    at Object.convert (/home/andre/.nvm/versions/node/v18.12.1/lib/node_modules/tslab/dist/converter.js:252:9)\n",
      "    at Object.execute (/home/andre/.nvm/versions/node/v18.12.1/lib/node_modules/tslab/dist/executor.js:138:38)\n",
      "    at JupyterHandlerImpl.handleExecuteImpl (/home/andre/.nvm/versions/node/v18.12.1/lib/node_modules/tslab/dist/jupyter.js:223:38)\n",
      "    at /home/andre/.nvm/versions/node/v18.12.1/lib/node_modules/tslab/dist/jupyter.js:181:57\n",
      "    at async JupyterHandlerImpl.handleExecute (/home/andre/.nvm/versions/node/v18.12.1/lib/node_modules/tslab/dist/jupyter.js:181:21)\n"
     ]
    }
   ],
   "source": [
    "import { LinkedList }"
   ]
  },
  {
   "cell_type": "code",
   "execution_count": null,
   "metadata": {},
   "outputs": [],
   "source": [
    "const list = new LinkedLis"
   ]
  }
 ],
 "metadata": {
  "kernelspec": {
   "display_name": "TypeScript",
   "language": "typescript",
   "name": "tslab"
  },
  "language_info": {
   "codemirror_mode": {
    "mode": "typescript",
    "name": "javascript",
    "typescript": true
   },
   "file_extension": ".ts",
   "mimetype": "text/typescript",
   "name": "typescript",
   "version": "3.7.2"
  }
 },
 "nbformat": 4,
 "nbformat_minor": 2
}
